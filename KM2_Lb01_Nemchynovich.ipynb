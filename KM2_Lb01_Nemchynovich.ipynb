{
 "cells": [
  {
   "cell_type": "markdown",
   "id": "8338cbfb-84f2-4242-bbc4-7e1a771f20b9",
   "metadata": {},
   "source": [
    "# Лабораторная работа 1\n",
    "# Задача о падении тела. Построение графиков функций"
   ]
  },
  {
   "cell_type": "markdown",
   "id": "432109f7-9dbe-493e-9959-8a747ea82526",
   "metadata": {},
   "source": [
    "Немчинович Виктория Дмитриевна, 20.02.2025"
   ]
  },
  {
   "cell_type": "markdown",
   "id": "6b485bb1-5f5c-4895-82ab-310848ffa93e",
   "metadata": {},
   "source": [
    "## Задание 1.1. Задача о падении тела"
   ]
  },
  {
   "cell_type": "markdown",
   "id": "03bc949e-468e-41fe-8580-3d43fb7560b7",
   "metadata": {},
   "source": [
    "**Описание процесса**.\n",
    "Тело запущено под углом $\\alpha$ к горизонту на высоте $h_{start}$ и через\n",
    "время $t=T$ достигает другое тело, расположенное на расстоянии $s_{end}$ и\n",
    "высоте $h_{end}$.\n",
    "\n",
    "**Предположения**.\n",
    "- Тело будем считать материальной точкой массы $m$.\n",
    "- Движение запущенного тела осуществляется только под действием силы\n",
    "тяжести $${\\bf F} = m (0,-g),$$ где $m$ $-$ масса тела, $g$ $-$ ускорение\n",
    "свободного падения.\n",
    "- Сопротивлением среды пренебрегаем.\n",
    " \n",
    "**Задания для выполнения**.\n",
    "- $\\color{red}\\text{Определите}$ функцию перемещения тела ($s_{x}(t)$, $s_{y}(t)$)под действием силы тяжести, где $s_{x}(t)$ и $s_{y}$($t$)$-$горизонтальная и вертикальная составляющая положения тела в момент времени $t$, соответственно.\n",
    "- $\\color{red}\\text{Найдите}$ угол запуска тела $\\alpha$.\n",
    "- $\\color{red}\\text{Постройте}$ график траектории движения тела ($s_{x}(t)$, $s_{y}(t)$) для $t \\in [0,T]$"
   ]
  },
  {
   "cell_type": "markdown",
   "id": "127f7e48-ee92-4ac6-8b50-59acf90e85ac",
   "metadata": {},
   "source": [
    "# Выполнение задания 1.1"
   ]
  },
  {
   "cell_type": "markdown",
   "id": "2725cc6b-629e-41b9-a65f-2e95f263f2d7",
   "metadata": {},
   "source": [
    "## Этап 1. Импортирование модулей"
   ]
  },
  {
   "cell_type": "code",
   "execution_count": 18,
   "id": "c12e1d7c-11ae-4b00-9de4-556f61429c65",
   "metadata": {},
   "outputs": [],
   "source": [
    "import math"
   ]
  },
  {
   "cell_type": "code",
   "execution_count": 19,
   "id": "3a3f89ec-08db-4019-9742-a45ad34cbdc1",
   "metadata": {},
   "outputs": [],
   "source": [
    "import numpy as np"
   ]
  },
  {
   "cell_type": "code",
   "execution_count": 20,
   "id": "fc577d86-1b82-47c1-a8dc-747437958e5c",
   "metadata": {},
   "outputs": [],
   "source": [
    "import matplotlib.pyplot as plt"
   ]
  },
  {
   "cell_type": "code",
   "execution_count": 21,
   "id": "3634c436-ea58-42c6-b00d-4b2675956304",
   "metadata": {},
   "outputs": [],
   "source": [
    "import scipy.constants as const"
   ]
  },
  {
   "cell_type": "code",
   "execution_count": 22,
   "id": "ef07cc2e-a7a4-456d-9ebc-f57efe58649a",
   "metadata": {},
   "outputs": [],
   "source": [
    "import sympy"
   ]
  },
  {
   "cell_type": "markdown",
   "id": "a29bae02-f994-4305-972b-9218841a3202",
   "metadata": {},
   "source": [
    "## Этап 2. Создание переменных "
   ]
  },
  {
   "cell_type": "code",
   "execution_count": 24,
   "id": "fc6e6e17-bf6c-419c-99ba-fd26d9255058",
   "metadata": {},
   "outputs": [],
   "source": [
    "h_start = 1 # вертикальная составляющая положения тела в момент запуска\n",
    "h_end = 3.0E+0 # вертикальная составляющая положения тела в конечный момент движ\n",
    "T = 3.0 # время полета\n",
    "s_end = 5.0e0 # горизонтальное перемещение тела за время полета"
   ]
  },
  {
   "cell_type": "code",
   "execution_count": 25,
   "id": "66cd4705-2038-4d67-8bae-4391b91cdf4a",
   "metadata": {},
   "outputs": [
    {
     "data": {
      "text/plain": [
       "3.0"
      ]
     },
     "execution_count": 25,
     "metadata": {},
     "output_type": "execute_result"
    }
   ],
   "source": [
    "h_start # переменная не отобразится\n",
    "h_end # переменная отобразится"
   ]
  },
  {
   "cell_type": "code",
   "execution_count": 26,
   "id": "ad9fbb4e-f5d3-4637-b83c-e1c27fea8780",
   "metadata": {},
   "outputs": [
    {
     "name": "stdout",
     "output_type": "stream",
     "text": [
      "1 3.0\n"
     ]
    }
   ],
   "source": [
    "print(h_start, h_end)"
   ]
  },
  {
   "cell_type": "code",
   "execution_count": 27,
   "id": "39befa24-c655-4ac9-a03a-c1590c96ce5f",
   "metadata": {},
   "outputs": [
    {
     "data": {
      "text/plain": [
       "(9.80665, 'm s^-2')"
      ]
     },
     "execution_count": 27,
     "metadata": {},
     "output_type": "execute_result"
    }
   ],
   "source": [
    "g = const.g\n",
    "g, const.unit('standard acceleration of gravity')"
   ]
  },
  {
   "cell_type": "markdown",
   "id": "03125aa8-7ac8-41ed-9abb-c66bcf8d70cc",
   "metadata": {},
   "source": [
    "$\\color{red}\\text{Приведите}$ несколько примеров физических констант из модуля constants пакета расширений scipy"
   ]
  },
  {
   "cell_type": "code",
   "execution_count": 29,
   "id": "7565b18b-5cfb-47e1-a921-a69a6e457564",
   "metadata": {},
   "outputs": [
    {
     "name": "stdout",
     "output_type": "stream",
     "text": [
      "6.6743e-11 m^3 kg^-1 s^-2 \n",
      " 299792458.0 m s^-1\n"
     ]
    }
   ],
   "source": [
    "print(const.G, const.unit('Newtonian constant of gravitation'), '\\n',\n",
    "const.c, const.unit('speed of light in vacuum'))"
   ]
  },
  {
   "cell_type": "markdown",
   "id": "206221da-0f91-4ab3-b962-cc242b9e43be",
   "metadata": {},
   "source": [
    "Создадим последовательность равномерно распределённых чисел на отрезке $[0,T]$ с шагом 0.01 двумя способами."
   ]
  },
  {
   "cell_type": "code",
   "execution_count": 31,
   "id": "d2e21d61-ec15-4e5b-a7e3-6cbfd0a62ac5",
   "metadata": {},
   "outputs": [],
   "source": [
    "step = 0.01\n",
    "t_list = [0 + i*step for i in range(int(T/0.01))]\n",
    "t_array = np.arange(0, T, step)"
   ]
  },
  {
   "cell_type": "markdown",
   "id": "b3bf09ae-6a7e-406c-9f95-2b023d7c3bf6",
   "metadata": {},
   "source": [
    "**Спецификации функций range и numpy.arange**\n",
    "- Функция range может принимать аргументом start - начальное значение, end - конечное значение, step - шаг. Функция генерирует последовательность (списком) чисел от start до end с шагом step.\n",
    "- Функция arange принимает те же самые аргументы, но генерирует с фиксированной размерностью массив."
   ]
  },
  {
   "cell_type": "markdown",
   "id": "34f3802c-cc65-4e6a-b4ac-8728bee17ee5",
   "metadata": {},
   "source": [
    "## Этап 3. Определение функции перемещения и нахождения угла запуска тела."
   ]
  },
  {
   "cell_type": "markdown",
   "id": "2ad82798-d64f-4e2e-b067-b58873c6f48e",
   "metadata": {},
   "source": [
    "Полагаем, что начало прямоугольной декартовой системы координат соответствует уровню земли. Тогда в начальный момент движения тела $t = 0$ имеем, что $$s_{x}(0) = 0, s_{y}(0) = h_{start}.$$\n",
    "Для построения функции перемещения $(s_{x}(t), s_{y}(t))$ воспользуемся вторым законом Ньютона $$ma = F,$$ где $m$ - масса тела, ускорение движения тела $a = (s_{x}''(t), s_{y}''(t))$ и приложенная сила $F = m(0,-g)$. В результате имеем два уравнения, что $$s_{x}''(t)=0, s_{y}''(t)=-g.$$\n",
    "На основании уравнений с учётом начальных условий можно записать аналитический вид для функций $s_{x}(t)$ и $s_{y}(t)$\n",
    "$$s_{x}(t) = s_{x}(0) + \\upsilon0_{x}t = 0 +  \\upsilon0_{x}t,$$\n",
    "$$s_{y}(t) = s_{y}(0) + \\upsilon0_{y}t - \\frac{g}{2}t^2 = h_{start} +  \\upsilon0_{y}t - \\frac{g}{2}t^2,$$где $\\upsilon0 = (\\upsilon0_{x}, \\upsilon0_{y})$ обозначает неизвестную скорость движения тела в начальный момент времени $t = 0$"
   ]
  },
  {
   "cell_type": "markdown",
   "id": "d7e3b226-7dc2-4c80-b7fa-129b786370a7",
   "metadata": {},
   "source": [
    "$\\color{red}\\text{Объяснение}$ как из второго закона Ньютона и начальных условий получен аналитический вид функции перемещения $(s_{x}(t), s_{y}(t))$:\n",
    "- Горизонтальная и вертикальная составляющие являются независимыми. Горизонтальная составляющая является равномерным прямолинейным движением, вертикальная составляющая является равноускоренным прямоулинейным движением под действием силы тяжести $mg = F$.\n",
    "- По условию на тело не действует никаких других сил, кроме как силы тяжести.\n",
    "- Сила тяжести направлена по направлению к земле, поэтому берём вторую производную от расстояния со знаком минус (тело падает).\n",
    "- Подставив начальные значения ($h_{start}$ и $s_{x}(0) = 0$ получим аналитическую функцию перемещений"
   ]
  },
  {
   "cell_type": "markdown",
   "id": "7a4fb3e0-f6e3-47b5-bbf8-f14e82f9189a",
   "metadata": {},
   "source": [
    "Если начальный момент времени взять не $t = 0$, а $t = t^*$, то функция примет вид:\n",
    "$$s_{x}(t) = s_{x}(t^*) + \\upsilon(t^*)_{x}t$$\n",
    "$$s_{y}(t) = s_{y}(t^*) + \\upsilon(t^*)_{y}t - \\frac{g}{2}t^2$$ "
   ]
  },
  {
   "cell_type": "markdown",
   "id": "5d45be8d-b696-4c70-be1c-4fb08ea0bdf3",
   "metadata": {},
   "source": [
    "Из условия задачи имеем, что $s_{x}(T) = s_{end}$. Из этого соотношения находим значение для для $\\upsilon0_{x}$"
   ]
  },
  {
   "cell_type": "code",
   "execution_count": 38,
   "id": "c61f45cc-214f-4bc6-9dd5-8807c6a6bae0",
   "metadata": {},
   "outputs": [
    {
     "data": {
      "text/plain": [
       "1.6666666666666667"
      ]
     },
     "execution_count": 38,
     "metadata": {},
     "output_type": "execute_result"
    }
   ],
   "source": [
    "v0_x = s_end/T\n",
    "v0_x"
   ]
  },
  {
   "cell_type": "markdown",
   "id": "38bc9d56-9e17-4d06-a944-e61a1e5c0f2e",
   "metadata": {},
   "source": [
    "Из условия задачи имеем, что $s_{y}(T) = h_{end}$. Из этого соотношения находим значение для для $\\upsilon0_{y}$"
   ]
  },
  {
   "cell_type": "code",
   "execution_count": 40,
   "id": "f32f791d-b3cd-4602-b2db-2ea8fa05a2f0",
   "metadata": {},
   "outputs": [
    {
     "data": {
      "text/plain": [
       "15.376641666666666"
      ]
     },
     "execution_count": 40,
     "metadata": {},
     "output_type": "execute_result"
    }
   ],
   "source": [
    "v0_y = (h_end-h_start+g/2*T**2)/T\n",
    "v0_y"
   ]
  },
  {
   "cell_type": "markdown",
   "id": "f8983b98-fc93-46a4-8ed4-45f0c4031c7d",
   "metadata": {},
   "source": [
    "Значение угла запуска тела $\\alpha$ определяем из соотношения $\\tan\\alpha = \\frac{\\upsilon0_{y}}{\\upsilon0_{x}}$"
   ]
  },
  {
   "cell_type": "code",
   "execution_count": 42,
   "id": "2e746560-2e4b-4448-911c-4f7e98501161",
   "metadata": {},
   "outputs": [
    {
     "data": {
      "text/plain": [
       "(1.462828312588189, 83.81388846354714)"
      ]
     },
     "execution_count": 42,
     "metadata": {},
     "output_type": "execute_result"
    }
   ],
   "source": [
    "alpha = math.atan(v0_y/v0_x)\n",
    "alpha, math.degrees(alpha)"
   ]
  },
  {
   "cell_type": "markdown",
   "id": "451a661f-40aa-4876-ab4b-bf33e12792f2",
   "metadata": {},
   "source": [
    "Результирующая функция перемещения имеет следующий вид:"
   ]
  },
  {
   "cell_type": "code",
   "execution_count": 44,
   "id": "20034861-163c-487b-905d-a20593af200d",
   "metadata": {},
   "outputs": [
    {
     "data": {
      "text/plain": [
       "'s_x(t) = 1.6666666666666667 t'"
      ]
     },
     "execution_count": 44,
     "metadata": {},
     "output_type": "execute_result"
    }
   ],
   "source": [
    "f's_x(t) = {v0_x} t'"
   ]
  },
  {
   "cell_type": "code",
   "execution_count": 45,
   "id": "4b119a1c-c9eb-4fa4-a8bb-7c2d75710abf",
   "metadata": {},
   "outputs": [
    {
     "data": {
      "text/plain": [
       "'s_y(t) = 1 + 15.3766 t - 9.80665/2*t²'"
      ]
     },
     "execution_count": 45,
     "metadata": {},
     "output_type": "execute_result"
    }
   ],
   "source": [
    "f's_y(t) = {h_start} + {v0_y:.6} t - {g:.6}/2*t\\N{superscript two}'\n"
   ]
  },
  {
   "cell_type": "markdown",
   "id": "c65b1e76-0f93-4d8c-82bc-aec9b3d954dd",
   "metadata": {},
   "source": [
    "## Этап 4. Построение графика траектории движения тела."
   ]
  },
  {
   "cell_type": "code",
   "execution_count": 47,
   "id": "400d1b27-57d4-4340-806d-335f433af845",
   "metadata": {},
   "outputs": [],
   "source": [
    "s_x_list = [v0_x*t for t in t_list]\n",
    "s_y_list = [h_start+v0_y*t-g*t**2/2 for t in t_list]"
   ]
  },
  {
   "cell_type": "code",
   "execution_count": 48,
   "id": "2ea27bdf-2af2-4045-a0b0-3e08dfaf1d57",
   "metadata": {},
   "outputs": [],
   "source": [
    "s_x_array = v0_x*t_array\n",
    "s_y_array = h_start+v0_y*t_array-g*t_array**2/2"
   ]
  },
  {
   "cell_type": "code",
   "execution_count": 49,
   "id": "18240f0b-2037-411c-a352-05146e5c0815",
   "metadata": {},
   "outputs": [
    {
     "data": {
      "text/plain": [
       "(0.0, 5.0, 0.0, 14.0)"
      ]
     },
     "execution_count": 49,
     "metadata": {},
     "output_type": "execute_result"
    },
    {
     "data": {
      "image/png": "[encoded data removed]",
      "text/plain": [
       "<Figure size 640x480 with 1 Axes>"
      ]
     },
     "metadata": {},
     "output_type": "display_data"
    }
   ],
   "source": [
    "plt.figure()\n",
    "plt.plot(s_x_list,s_y_list,'-b',lw=5)\n",
    "plt.title('Вертикальное перемещение тела')\n",
    "plt.xlabel('x (m)'); plt.ylabel('y (m)') \n",
    "plt.axis([0, s_end, 0, h_end+11])"
   ]
  },
  {
   "cell_type": "code",
   "execution_count": 50,
   "id": "caf1a968-db59-4c0e-93ea-082253a880e1",
   "metadata": {},
   "outputs": [
    {
     "data": {
      "image/png": "[encoded data removed]",
      "text/plain": [
       "<Figure size 640x480 with 1 Axes>"
      ]
     },
     "metadata": {},
     "output_type": "display_data"
    }
   ],
   "source": [
    "plt.figure()\n",
    "plt.plot(s_x_array,s_y_array,color='green',lw=3)\n",
    "plt.title('Вертикальное перемещение тела')\n",
    "plt.xlabel('x (m)'); plt.ylabel('y (m)')\n",
    "# альтернативный синтаксис для установки пределов по осям\n",
    "plt.xlim(0, s_end)\n",
    "plt.ylim(0, h_end+11);"
   ]
  },
  {
   "cell_type": "markdown",
   "id": "ce181977-6e66-41db-989e-099109eff0bf",
   "metadata": {},
   "source": [
    "## Задание 1.2. Определение момента времени касания телом земли"
   ]
  },
  {
   "cell_type": "markdown",
   "id": "5843f12c-8391-453a-aaa6-7ffb69b11137",
   "metadata": {},
   "source": [
    "*Подход 1* (**точное решение**): время касания телом земли находим как точное решение уравнения $s_{y}(t)$;\n",
    "\n",
    "*Подход 2* (**приближенное решение**)\n",
    "- Постройте последовательность $s_{y}$ на временном отрезке $[0, t_{stop}]$, чтобы момент касания тела земли $t^*$ попадал в выбранный отрезок, т.е. $t^* \\in [0, t_{stop}]$. Отметим, что $t_{stop} > T$, где значение $T$ задаётся в Задании 1.1.\n",
    "- Найдите в построенной последовательности $s_{y}$ два соседних элемента последовательности, значения которых меняют знак. Т. е. найдите значение индекса $k$, для которого $s_{y}[k]s_{y}[k+1]<0$. Это будет означать, что $0 \\in (s_{y}[k],s_{y}[k+1])$.\n",
    "- Постройте прямую линию $s_{lin}(t)$, проходящую через две точки $(t[k],s_{y}[k])$ и $(t[k+1],s_{y}[k+1])$ и найдите значение $t^* \\in (t[k],t[k+1])$ из условия $s_{lin}(t^*)=0$. Найденное значение $t^*$ будет соответствовать точке $(t^*,0)$ на прямой $s_{lin}(t)$. $\\color{red}\\text{Приведите}$ в документе формулы для прямой $s_{lin}(t)$ и для вычисления $t^*$.\n",
    "$\\color{red}\\text{Сравните}$ точное решение *(Подход 1)* и приближенное решение *(Подход 2)*, вычислив относительную ошибку."
   ]
  },
  {
   "cell_type": "markdown",
   "id": "6cb47f93-efc3-42a9-87ae-dff770c78881",
   "metadata": {},
   "source": [
    "Формула прямой $s_{lin}:$\n",
    "$$\\frac{x-t[k]}{t[k+1]-t[k]} = \\frac{y-s_{y}[k]}{s_{y}[k+1]-s_{y}[k]}$$\n",
    "Формула $t^*$:\n",
    "$$t^* = \\frac{-s_{y}[k]*(t[k+1]-t[k])}{s_{y}[k+1]-s_{y}[k]}+t[k]$$\n",
    "\n",
    "Относительная ошибка двух подходов зависит от выбора шага интерполяции. В нашем случае ошибка составляет приблизительно $0.0002$%"
   ]
  },
  {
   "cell_type": "markdown",
   "id": "3e81a962-5214-4d30-8b7e-ca0700b47de6",
   "metadata": {},
   "source": [
    "# Выполнение Задания 1.2."
   ]
  },
  {
   "cell_type": "markdown",
   "id": "910412db-3c40-4d8e-bfa6-7f0c1709db58",
   "metadata": {},
   "source": [
    "## Первый подход"
   ]
  },
  {
   "cell_type": "code",
   "execution_count": 56,
   "id": "093964b3-f2e8-4ca6-8322-a057eeec56fe",
   "metadata": {},
   "outputs": [
    {
     "data": {
      "text/plain": [
       "[-0.0637382309488101, 3.19970039267921]"
      ]
     },
     "execution_count": 56,
     "metadata": {},
     "output_type": "execute_result"
    }
   ],
   "source": [
    "t = sympy.symbols('t')\n",
    "result = sympy.solve(h_start+v0_y*t-g*t**2/2, t)\n",
    "result"
   ]
  },
  {
   "cell_type": "code",
   "execution_count": 57,
   "id": "c02ef1de-5428-42cb-bece-af9051c38b25",
   "metadata": {},
   "outputs": [
    {
     "data": {
      "text/latex": [
       "$\\displaystyle 3.19970039267921$"
      ],
      "text/plain": [
       "3.19970039267921"
      ]
     },
     "execution_count": 57,
     "metadata": {},
     "output_type": "execute_result"
    }
   ],
   "source": [
    "t_star_exact = result[-1]\n",
    "t_star_exact"
   ]
  },
  {
   "cell_type": "markdown",
   "id": "b4a3b011-7937-4268-8c48-ce9e32cb1cae",
   "metadata": {},
   "source": [
    "**Спецификации функций sympy.symbols и sympy.solve:**\n",
    "\n",
    "- Функция sympy.symbols принимает строку в качестве аргумента и создаёт за этой строкой символьную переменную, которую мы можем использовать в математических вычислениях\n",
    "- Функция sympy.solve принимает некоторое уравнение, содержащее символьную переменную и решает уравнение относительно данной переменной\n",
    "\n",
    "Примеры решений уравнений:"
   ]
  },
  {
   "cell_type": "code",
   "execution_count": 59,
   "id": "b4b012c2-8b1d-4cea-a877-393c27e6e686",
   "metadata": {},
   "outputs": [
    {
     "name": "stdout",
     "output_type": "stream",
     "text": [
      "[-3, 1]\n"
     ]
    },
    {
     "data": {
      "text/plain": [
       "{X: 3, Y: 2}"
      ]
     },
     "execution_count": 59,
     "metadata": {},
     "output_type": "execute_result"
    }
   ],
   "source": [
    "X, Y = sympy.symbols('X Y')\n",
    "print(sympy.solve(X**2+2*X-3, X))\n",
    "sympy.solve((X+Y-5, X-2*Y+1), (X,Y))"
   ]
  },
  {
   "cell_type": "markdown",
   "id": "902108a3-b0b8-4bcd-9739-f0d9df6123b3",
   "metadata": {},
   "source": [
    "## Второй подход"
   ]
  },
  {
   "cell_type": "code",
   "execution_count": 61,
   "id": "f78acf16-c8a5-4986-9a3c-2c67ff3b12a3",
   "metadata": {},
   "outputs": [],
   "source": [
    "tVTOR_list = [0 + i*step for i in range(int(2*T/0.01))]\n",
    "sVTOR_y_list = [h_start+v0_y*t-g*t**2/2 for t in tVTOR_list]"
   ]
  },
  {
   "cell_type": "code",
   "execution_count": 62,
   "id": "b9fd206e-d30e-41f9-804f-172e1f5ac770",
   "metadata": {},
   "outputs": [
    {
     "name": "stdout",
     "output_type": "stream",
     "text": [
      "(319, 0.15476138416666174)\n"
     ]
    }
   ],
   "source": [
    "for i in range(len(sVTOR_y_list)):\n",
    "    if sVTOR_y_list[i]*sVTOR_y_list[i+1]<0:\n",
    "        print(list(enumerate(sVTOR_y_list))[i])\n",
    "        K = i\n",
    "        break"
   ]
  },
  {
   "cell_type": "code",
   "execution_count": 63,
   "id": "0056665c-9bb2-4141-8f0a-bc4ac0649d3d",
   "metadata": {},
   "outputs": [
    {
     "data": {
      "text/plain": [
       "3.199699499540028"
      ]
     },
     "execution_count": 63,
     "metadata": {},
     "output_type": "execute_result"
    }
   ],
   "source": [
    "tVTOR = (-sVTOR_y_list[K]*(tVTOR_list[K+1]-tVTOR_list[K]))/(sVTOR_y_list[K+1]-sVTOR_y_list[K])+tVTOR_list[K]\n",
    "tVTOR"
   ]
  },
  {
   "cell_type": "code",
   "execution_count": 64,
   "id": "e56bb657-9c40-407f-a0cb-9ef1d4e3f240",
   "metadata": {},
   "outputs": [
    {
     "data": {
      "text/latex": [
       "$\\displaystyle 2.79132127978774 \\cdot 10^{-7}$"
      ],
      "text/plain": [
       "2.79132127978774e-7"
      ]
     },
     "execution_count": 64,
     "metadata": {},
     "output_type": "execute_result"
    }
   ],
   "source": [
    "rel_error = (t_star_exact-tVTOR)/t_star_exact\n",
    "rel_error"
   ]
  },
  {
   "cell_type": "markdown",
   "id": "9f93f1d7-d389-479c-9476-c8b6db218fb9",
   "metadata": {},
   "source": [
    "## Задание 1.3. Построение секущей, касательной и нормали к графику функции\n",
    "$\\color{red}\\text{Постройте}$ в одной графической области:\n",
    "- график траектории движения тела $(s_{x}(t),s_{y}(t))$ для $t \\in [0,T]$ из Задания 1.1;\n",
    "- график секущей прямой к траектории движения тела, проходящей через начальную точку при $t=0$ и конечную точку при $t=T$;\n",
    "- график касательной прямой к траектории движения тела в начальной точке при $t=0$;\n",
    "- график нормальной прямой к траектории движения тела в начальной точке при $t=0$.\n",
    "  \n",
    "Построение графиков функций осуществляется по координатам точек графика. Для построения графиков прямых линий (секущая, касательная, нормаль) используйте только две точки."
   ]
  },
  {
   "cell_type": "markdown",
   "id": "d71d26de-992b-4263-a98a-f50a3967abb0",
   "metadata": {},
   "source": [
    "# Выполнение Задания 1.3."
   ]
  },
  {
   "cell_type": "markdown",
   "id": "a8bfb296-762c-42c1-9327-d11afda8afd9",
   "metadata": {},
   "source": [
    "Воспользуемся *векторно-параметрическим уравнением прямой* для заданной точки $p_{start}$, лежащей на прямой, и заданного направляющего вектора *a*\n",
    "$$p(t) = p_{start} + at$$\n",
    "Направляющий вектор можно определить, как $a = p_{end} - p_{start}$, где точка $p_{end}$ лежит на прямой и отлична от точки $p_{start}$."
   ]
  },
  {
   "cell_type": "code",
   "execution_count": 68,
   "id": "939be566-f2d2-4984-b260-6140300dcceb",
   "metadata": {},
   "outputs": [
    {
     "data": {
      "text/plain": [
       "(array([0., 1.]), array([4.98333333, 3.13994275]))"
      ]
     },
     "execution_count": 68,
     "metadata": {},
     "output_type": "execute_result"
    }
   ],
   "source": [
    "p_start = np.array([s_x_array[0], s_y_array[0]])\n",
    "p_end = np.array([s_x_array[-1], s_y_array[-1]])\n",
    "p_start, p_end"
   ]
  },
  {
   "cell_type": "code",
   "execution_count": 69,
   "id": "2951b45a-b2a9-4dcf-834d-0dd135c8491d",
   "metadata": {},
   "outputs": [],
   "source": [
    "a = p_end-p_start"
   ]
  },
  {
   "cell_type": "code",
   "execution_count": 70,
   "id": "65eab6cf-0d3a-456b-b1b5-641bf1bc952f",
   "metadata": {},
   "outputs": [],
   "source": [
    "p = [p_start + a*t for t in [-1, 2]]\n",
    "p = np.array(p)"
   ]
  },
  {
   "cell_type": "markdown",
   "id": "fc441791-8bf5-4f9e-b917-e02c948237a8",
   "metadata": {},
   "source": [
    "Для построения касательной прямой воспользуемся уравнением прямой по точке $p_{start}(x_{start}, y_{start})$ и угловому коэффициенту $k$:\n",
    "$$y = k(x-x_{start})+y_{start}.$$\n",
    "Угловой коэффициент определим как тангенс угла наклона касательной к графику в этой точке. С другой стороны угол наклона в начальной точке касательной является углом броска."
   ]
  },
  {
   "cell_type": "code",
   "execution_count": 72,
   "id": "a7204cd4-6702-45f6-907b-dbf37579952b",
   "metadata": {},
   "outputs": [],
   "source": [
    "K = math.tan(alpha)\n",
    "Kas = [(t, K*(t-s_x_array[0])+s_y_array[0]) for t in [-1, 3]]\n",
    "Kas = np.array(Kas)"
   ]
  },
  {
   "cell_type": "markdown",
   "id": "c960d271-ee25-4b2c-b0e1-bf202ba8fbf5",
   "metadata": {},
   "source": [
    "Преобразовав уравнение прямой по точке и угловому коэффициенту $k$ получим:\n",
    "$$kx-y-(kx_{start}-y_{start}) = 0 \\text{ - общее уравнение прямой},$$\n",
    "Следовательно вектор нормали к данной прямой будет иметь координаты $n(k, -1)$\n",
    "Воспользуемся векторно-параметрическим заданием прямой по точке $p_{start}$ и вектору нормали $n$:\n",
    "$$n(t) = p_{start}+nt$$"
   ]
  },
  {
   "cell_type": "code",
   "execution_count": 74,
   "id": "138106f1-2c0d-4960-8c8b-b846bf59bfa7",
   "metadata": {},
   "outputs": [],
   "source": [
    "nVEC = np.array([K, -1])\n",
    "n = [p_start + nVEC*t for t in [-1, 2]]\n",
    "n = np.array(n)"
   ]
  },
  {
   "cell_type": "code",
   "execution_count": 75,
   "id": "64e3711f-8ec3-41b0-b1c8-a8969094cec1",
   "metadata": {},
   "outputs": [
    {
     "data": {
      "text/plain": [
       "(-5.0, 10.0, 0.0, 14.0)"
      ]
     },
     "execution_count": 75,
     "metadata": {},
     "output_type": "execute_result"
    },
    {
     "data": {
      "image/png": "[encoded data removed]",
      "text/plain": [
       "<Figure size 640x480 with 1 Axes>"
      ]
     },
     "metadata": {},
     "output_type": "display_data"
    }
   ],
   "source": [
    "fig = plt.figure()\n",
    "plt.plot(s_x_array, s_y_array, '-b', lw=1)\n",
    "plt.plot(p[:,0],p[:,1], '--', color = 'red', lw=1)\n",
    "plt.xlabel('x (m)'); plt.ylabel('y (m)')\n",
    "plt.plot(Kas[:,0],Kas[:,1], '--', color = 'green', lw=1)\n",
    "plt.plot(n[:,0],n[:,1], '--', color = 'orange', lw=1)\n",
    "\n",
    "plt.axis([-5, s_end+5, 0, h_end+11])"
   ]
  },
  {
   "cell_type": "markdown",
   "id": "7b31fe37-29e6-425b-a6c7-af99724c71b1",
   "metadata": {},
   "source": [
    "## Задание 1.4. Построение графиков функций\n",
    "$\\color{red}\\text{Постройте}$ графики функций на плоскости по координатам точек согласно варианту. Функция задана:\n",
    "\n",
    "a) полярным уравнением $\\rho=\\rho(\\varphi)$;\n",
    "\n",
    "б) параметрическими уравнениями $x=x(t)$, $y=y(t)$ в декартовой системе координат $(x,y)$.\n",
    "\n",
    "Построение графиков функций осуществляется по координатам точек графика. Для этого нужно создать последовательность значений $x(\\varphi)$-координат точек графика функции и последовательность соответствующих значений $y(\\rho)$-координат точек графика функции."
   ]
  },
  {
   "cell_type": "markdown",
   "id": "f74eea24-de76-4b29-a6da-ea2e4374e7cb",
   "metadata": {},
   "source": [
    "# Выполнение Задания 1.4."
   ]
  },
  {
   "cell_type": "markdown",
   "id": "69d03064-ddd8-43d4-b492-aed1cecf0803",
   "metadata": {},
   "source": [
    "## Полярное уравнение"
   ]
  },
  {
   "cell_type": "markdown",
   "id": "a759c256-e30d-4d88-a93c-c517f7446479",
   "metadata": {},
   "source": [
    "а) $\\rho=\\frac{a}{m+nsin\\varphi}, a \\in \\\\R, m \\in \\\\N, n \\in \\\\Z$"
   ]
  },
  {
   "cell_type": "code",
   "execution_count": 122,
   "id": "a3c654c9-8655-4579-8754-a6e3389fbd6e",
   "metadata": {},
   "outputs": [
    {
     "data": {
      "image/png": "[encoded data removed]",
      "text/plain": [
       "<Figure size 640x480 with 1 Axes>"
      ]
     },
     "metadata": {},
     "output_type": "display_data"
    }
   ],
   "source": [
    "plt.figure()\n",
    "plt.axes(projection = 'polar')\n",
    "phi = np.arange(-np.pi/2, np.pi/2, 0.1)\n",
    "rho = ([1/(2+math.sin(t)) for t in phi])\n",
    "rho = np.array(rho)\n",
    "plt.plot(phi + (rho<0)*np.pi, abs(rho), 'r.');"
   ]
  },
  {
   "cell_type": "markdown",
   "id": "75fd0eea-17fa-40a5-8632-d4bd4ed018d8",
   "metadata": {},
   "source": [
    "## Параметическое уравнение"
   ]
  },
  {
   "cell_type": "markdown",
   "id": "ebb5fedb-35f3-4b1c-8526-cce49092d651",
   "metadata": {},
   "source": [
    " б) $x=ln\\sqrt{\\frac{1-t}{1+t}}, y=\\sqrt{1-t^2}$"
   ]
  },
  {
   "cell_type": "code",
   "execution_count": 83,
   "id": "1eba5852-01a1-42dd-a268-c67465fff313",
   "metadata": {},
   "outputs": [
    {
     "data": {
      "text/plain": [
       "(-2.0, 2.0, 0.0, 2.0)"
      ]
     },
     "execution_count": 83,
     "metadata": {},
     "output_type": "execute_result"
    },
    {
     "data": {
      "image/png": "[encoded data removed]",
      "text/plain": [
       "<Figure size 640x480 with 1 Axes>"
      ]
     },
     "metadata": {},
     "output_type": "display_data"
    }
   ],
   "source": [
    "plt.figure()\n",
    "step = 0.05\n",
    "t_par = [-5+step + i*step for i in range (1, 73)]+[1.25+step + i*step for i in range (1, 73)]\n",
    "x_par = [math.log(math.sqrt((t-1)/(t+1))) for t in t_par];\n",
    "y_par = [math.sqrt(1-t**2) for t in x_par]\n",
    "\n",
    "plt.plot(x_par, y_par,'b-',lw=1);\n",
    "plt.axis([-2, 2, 0, 2])"
   ]
  },
  {
   "cell_type": "code",
   "execution_count": null,
   "id": "bcb56c41-36d9-4360-9420-6b20bd0b94c5",
   "metadata": {},
   "outputs": [],
   "source": []
  }
 ],
 "metadata": {
  "kernelspec": {
   "display_name": "Python [conda env:base] *",
   "language": "python",
   "name": "conda-base-py"
  },
  "language_info": {
   "codemirror_mode": {
    "name": "ipython",
    "version": 3
   },
   "file_extension": ".py",
   "mimetype": "text/x-python",
   "name": "python",
   "nbconvert_exporter": "python",
   "pygments_lexer": "ipython3",
   "version": "3.12.7"
  }
 },
 "nbformat": 4,
 "nbformat_minor": 5
}
